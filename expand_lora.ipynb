{
 "cells": [
  {
   "cell_type": "code",
   "execution_count": 1,
   "metadata": {},
   "outputs": [
    {
     "name": "stderr",
     "output_type": "stream",
     "text": [
      "/home/vmasti/miniconda3/lib/python3.10/site-packages/tqdm/auto.py:21: TqdmWarning: IProgress not found. Please update jupyter and ipywidgets. See https://ipywidgets.readthedocs.io/en/stable/user_install.html\n",
      "  from .autonotebook import tqdm as notebook_tqdm\n"
     ]
    }
   ],
   "source": [
    "from transformers import GPTNeoXForCausalLM\n",
    "from peft import PeftModel, LoraConfig, get_peft_model\n",
    "import torch\n",
    "import torch.nn as nn"
   ]
  },
  {
   "cell_type": "code",
   "execution_count": 2,
   "metadata": {},
   "outputs": [],
   "source": [
    "# first get the finetuned small model\n",
    "\n",
    "small_name = \"EleutherAI/pythia-70m\"\n",
    "large_name = \"EleutherAI/pythia-410m\"\n",
    "small_adapter = \"weight/pythia_70m_lora_r=64\"\n",
    "\n",
    "model_small_pt = GPTNeoXForCausalLM.from_pretrained(small_name)\n",
    "model_small_ft = PeftModel.from_pretrained(model_small_pt, small_adapter)"
   ]
  },
  {
   "cell_type": "code",
   "execution_count": 3,
   "metadata": {},
   "outputs": [
    {
     "data": {
      "text/plain": [
       "GPTNeoXForCausalLM(\n",
       "  (gpt_neox): GPTNeoXModel(\n",
       "    (embed_in): Embedding(50304, 1024)\n",
       "    (emb_dropout): Dropout(p=0.0, inplace=False)\n",
       "    (layers): ModuleList(\n",
       "      (0-23): 24 x GPTNeoXLayer(\n",
       "        (input_layernorm): LayerNorm((1024,), eps=1e-05, elementwise_affine=True)\n",
       "        (post_attention_layernorm): LayerNorm((1024,), eps=1e-05, elementwise_affine=True)\n",
       "        (post_attention_dropout): Dropout(p=0.0, inplace=False)\n",
       "        (post_mlp_dropout): Dropout(p=0.0, inplace=False)\n",
       "        (attention): GPTNeoXAttention(\n",
       "          (rotary_emb): GPTNeoXRotaryEmbedding()\n",
       "          (query_key_value): Linear(in_features=1024, out_features=3072, bias=True)\n",
       "          (dense): Linear(in_features=1024, out_features=1024, bias=True)\n",
       "          (attention_dropout): Dropout(p=0.0, inplace=False)\n",
       "        )\n",
       "        (mlp): GPTNeoXMLP(\n",
       "          (dense_h_to_4h): Linear(in_features=1024, out_features=4096, bias=True)\n",
       "          (dense_4h_to_h): Linear(in_features=4096, out_features=1024, bias=True)\n",
       "          (act): GELUActivation()\n",
       "        )\n",
       "      )\n",
       "    )\n",
       "    (final_layer_norm): LayerNorm((1024,), eps=1e-05, elementwise_affine=True)\n",
       "  )\n",
       "  (embed_out): Linear(in_features=1024, out_features=50304, bias=False)\n",
       ")"
      ]
     },
     "execution_count": 3,
     "metadata": {},
     "output_type": "execute_result"
    }
   ],
   "source": [
    "model_large_pt = GPTNeoXForCausalLM.from_pretrained(large_name)\n",
    "model_large_pt"
   ]
  },
  {
   "cell_type": "code",
   "execution_count": 4,
   "metadata": {},
   "outputs": [
    {
     "data": {
      "text/plain": [
       "PeftModelForCausalLM(\n",
       "  (base_model): LoraModel(\n",
       "    (model): GPTNeoXForCausalLM(\n",
       "      (gpt_neox): GPTNeoXModel(\n",
       "        (embed_in): Embedding(50304, 512)\n",
       "        (emb_dropout): Dropout(p=0.0, inplace=False)\n",
       "        (layers): ModuleList(\n",
       "          (0-5): 6 x GPTNeoXLayer(\n",
       "            (input_layernorm): LayerNorm((512,), eps=1e-05, elementwise_affine=True)\n",
       "            (post_attention_layernorm): LayerNorm((512,), eps=1e-05, elementwise_affine=True)\n",
       "            (post_attention_dropout): Dropout(p=0.0, inplace=False)\n",
       "            (post_mlp_dropout): Dropout(p=0.0, inplace=False)\n",
       "            (attention): GPTNeoXAttention(\n",
       "              (rotary_emb): GPTNeoXRotaryEmbedding()\n",
       "              (query_key_value): lora.Linear(\n",
       "                (base_layer): Linear(in_features=512, out_features=1536, bias=True)\n",
       "                (lora_dropout): ModuleDict(\n",
       "                  (default): Dropout(p=0.05, inplace=False)\n",
       "                )\n",
       "                (lora_A): ModuleDict(\n",
       "                  (default): Linear(in_features=512, out_features=64, bias=False)\n",
       "                )\n",
       "                (lora_B): ModuleDict(\n",
       "                  (default): Linear(in_features=64, out_features=1536, bias=False)\n",
       "                )\n",
       "                (lora_embedding_A): ParameterDict()\n",
       "                (lora_embedding_B): ParameterDict()\n",
       "              )\n",
       "              (dense): Linear(in_features=512, out_features=512, bias=True)\n",
       "              (attention_dropout): Dropout(p=0.0, inplace=False)\n",
       "            )\n",
       "            (mlp): GPTNeoXMLP(\n",
       "              (dense_h_to_4h): Linear(in_features=512, out_features=2048, bias=True)\n",
       "              (dense_4h_to_h): Linear(in_features=2048, out_features=512, bias=True)\n",
       "              (act): GELUActivation()\n",
       "            )\n",
       "          )\n",
       "        )\n",
       "        (final_layer_norm): LayerNorm((512,), eps=1e-05, elementwise_affine=True)\n",
       "      )\n",
       "      (embed_out): Linear(in_features=512, out_features=50304, bias=False)\n",
       "    )\n",
       "  )\n",
       ")"
      ]
     },
     "execution_count": 4,
     "metadata": {},
     "output_type": "execute_result"
    }
   ],
   "source": [
    "model_small_ft"
   ]
  },
  {
   "cell_type": "code",
   "execution_count": 37,
   "metadata": {},
   "outputs": [],
   "source": [
    "# config_mora = LoraConfig(\n",
    "#     use_mora=True, \n",
    "#     mora_type=6,  # RoPE for small rank\n",
    "#     r=64, \n",
    "#     target_modules=[\"query_key_value\"], \n",
    "#     lora_dropout=0.05, \n",
    "#     task_type=\"CAUSAL_LM\"\n",
    "#     # MoRA does not use lora_alpha\n",
    "# )\n",
    "# model = GPTNeoXForCausalLM.from_pretrained(\n",
    "#     \"EleutherAI/pythia-410m\"\n",
    "# )\n",
    "# model = get_peft_model(model, config_mora)"
   ]
  },
  {
   "cell_type": "code",
   "execution_count": 10,
   "metadata": {},
   "outputs": [],
   "source": [
    "# expand module\n",
    "\n",
    "def expand_lora_copy(old_module, new_in, new_out):\n",
    "    new_module = nn.Linear(new_in, new_out, bias=old_module.bias is not None)\n",
    "    nn.init.zeros_(new_module.weight)\n",
    "    \n",
    "    with torch.no_grad():\n",
    "        new_module.weight[:old_module.out_features, :old_module.in_features].copy_(old_module.weight)\n",
    "        \n",
    "        for i in range(old_module.in_features, new_in):\n",
    "            new_module.weight[:old_module.out_features, i].copy_(old_module.weight[:, i % old_module.in_features])\n",
    "        \n",
    "        for j in range(old_module.out_features, new_out):\n",
    "            new_module.weight[j, :old_module.in_features].copy_(old_module.weight[j % old_module.out_features, :])\n",
    "    \n",
    "    if old_module.bias is not None:\n",
    "        new_module.bias[:old_module.out_features].copy_(old_module.bias)\n",
    "    \n",
    "    return new_module\n",
    "\n",
    "\n",
    "def expand_lora_padding(old_module, new_in, new_out):\n",
    "    new_module = nn.Linear(new_in, new_out, bias=old_module.bias is not None)\n",
    "    nn.init.zeros_(new_module.weight)\n",
    "\n",
    "    with torch.no_grad():\n",
    "        new_module.weight[:old_module.out_features, :old_module.in_features].copy_(old_module.weight)\n",
    "\n",
    "    if old_module.bias is not None:\n",
    "        new_module.bias[:old_module.out_features].copy_(old_module.bias)\n",
    "    \n",
    "    return new_module"
   ]
  },
  {
   "cell_type": "code",
   "execution_count": 11,
   "metadata": {},
   "outputs": [],
   "source": [
    "new_in_a, new_out_a = 1024, 64\n",
    "new_in_b, new_out_b = 64, 3072\n",
    "\n",
    "for name, module in model_small_ft.named_modules():\n",
    "    if name.endswith(\"lora_A\"):\n",
    "        new_module = expand_lora_padding(module.default, new_in_a, new_out_a)\n",
    "        parts = name.split('.')\n",
    "        parent_module = model_small_ft\n",
    "        for part in parts[:-1]:\n",
    "            parent_module = getattr(parent_module, part)\n",
    "        \n",
    "        setattr(parent_module, parts[-1], nn.ModuleDict({\"default\": new_module}))\n",
    "\n",
    "    elif name.endswith(\"lora_B\"):\n",
    "        new_module = expand_lora_padding(module.default, new_in_b, new_out_b)\n",
    "        parts = name.split('.')\n",
    "        parent_module = model_small_ft\n",
    "        for part in parts[:-1]:\n",
    "            parent_module = getattr(parent_module, part)\n",
    "        \n",
    "        setattr(parent_module, parts[-1], nn.ModuleDict({\"default\": new_module}))"
   ]
  },
  {
   "cell_type": "code",
   "execution_count": 12,
   "metadata": {},
   "outputs": [],
   "source": [
    "# save the expanded model\n",
    "\n",
    "model_small_ft.save_pretrained(\"weight/pythia_70m_lora_expanded_padding_r=64\")"
   ]
  },
  {
   "cell_type": "code",
   "execution_count": 13,
   "metadata": {},
   "outputs": [
    {
     "data": {
      "text/plain": [
       "PeftModelForCausalLM(\n",
       "  (base_model): LoraModel(\n",
       "    (model): GPTNeoXForCausalLM(\n",
       "      (gpt_neox): GPTNeoXModel(\n",
       "        (embed_in): Embedding(50304, 512)\n",
       "        (emb_dropout): Dropout(p=0.0, inplace=False)\n",
       "        (layers): ModuleList(\n",
       "          (0-5): 6 x GPTNeoXLayer(\n",
       "            (input_layernorm): LayerNorm((512,), eps=1e-05, elementwise_affine=True)\n",
       "            (post_attention_layernorm): LayerNorm((512,), eps=1e-05, elementwise_affine=True)\n",
       "            (post_attention_dropout): Dropout(p=0.0, inplace=False)\n",
       "            (post_mlp_dropout): Dropout(p=0.0, inplace=False)\n",
       "            (attention): GPTNeoXAttention(\n",
       "              (rotary_emb): GPTNeoXRotaryEmbedding()\n",
       "              (query_key_value): lora.Linear(\n",
       "                (base_layer): Linear(in_features=512, out_features=1536, bias=True)\n",
       "                (lora_dropout): ModuleDict(\n",
       "                  (default): Dropout(p=0.05, inplace=False)\n",
       "                )\n",
       "                (lora_A): ModuleDict(\n",
       "                  (default): Linear(in_features=1024, out_features=64, bias=False)\n",
       "                )\n",
       "                (lora_B): ModuleDict(\n",
       "                  (default): Linear(in_features=64, out_features=3072, bias=False)\n",
       "                )\n",
       "                (lora_embedding_A): ParameterDict()\n",
       "                (lora_embedding_B): ParameterDict()\n",
       "              )\n",
       "              (dense): Linear(in_features=512, out_features=512, bias=True)\n",
       "              (attention_dropout): Dropout(p=0.0, inplace=False)\n",
       "            )\n",
       "            (mlp): GPTNeoXMLP(\n",
       "              (dense_h_to_4h): Linear(in_features=512, out_features=2048, bias=True)\n",
       "              (dense_4h_to_h): Linear(in_features=2048, out_features=512, bias=True)\n",
       "              (act): GELUActivation()\n",
       "            )\n",
       "          )\n",
       "        )\n",
       "        (final_layer_norm): LayerNorm((512,), eps=1e-05, elementwise_affine=True)\n",
       "      )\n",
       "      (embed_out): Linear(in_features=512, out_features=50304, bias=False)\n",
       "    )\n",
       "  )\n",
       ")"
      ]
     },
     "execution_count": 13,
     "metadata": {},
     "output_type": "execute_result"
    }
   ],
   "source": [
    "model_small_ft"
   ]
  },
  {
   "cell_type": "code",
   "execution_count": null,
   "metadata": {},
   "outputs": [],
   "source": []
  }
 ],
 "metadata": {
  "kernelspec": {
   "display_name": "mora",
   "language": "python",
   "name": "python3"
  },
  "language_info": {
   "codemirror_mode": {
    "name": "ipython",
    "version": 3
   },
   "file_extension": ".py",
   "mimetype": "text/x-python",
   "name": "python",
   "nbconvert_exporter": "python",
   "pygments_lexer": "ipython3",
   "version": "3.10.14"
  }
 },
 "nbformat": 4,
 "nbformat_minor": 2
}
