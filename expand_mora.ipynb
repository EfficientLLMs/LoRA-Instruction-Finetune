{
 "cells": [
  {
   "cell_type": "code",
   "execution_count": 34,
   "metadata": {},
   "outputs": [],
   "source": [
    "from transformers import GPTNeoXForCausalLM\n",
    "from peft import PeftModel, LoraConfig, get_peft_model\n",
    "import torch\n",
    "import torch.nn as nn"
   ]
  },
  {
   "cell_type": "code",
   "execution_count": 35,
   "metadata": {},
   "outputs": [],
   "source": [
    "# first get the finetuned small model\n",
    "\n",
    "small_name = \"EleutherAI/pythia-70m\"\n",
    "small_adapter = \"weight/pythia_70m_mora_r=64\"\n",
    "\n",
    "model_small_pt = GPTNeoXForCausalLM.from_pretrained(small_name)\n",
    "model_small_ft = PeftModel.from_pretrained(model_small_pt, small_adapter)"
   ]
  },
  {
   "cell_type": "code",
   "execution_count": 36,
   "metadata": {},
   "outputs": [
    {
     "data": {
      "text/plain": [
       "PeftModelForCausalLM(\n",
       "  (base_model): LoraModel(\n",
       "    (model): GPTNeoXForCausalLM(\n",
       "      (gpt_neox): GPTNeoXModel(\n",
       "        (embed_in): Embedding(50304, 512)\n",
       "        (emb_dropout): Dropout(p=0.0, inplace=False)\n",
       "        (layers): ModuleList(\n",
       "          (0-5): 6 x GPTNeoXLayer(\n",
       "            (input_layernorm): LayerNorm((512,), eps=1e-05, elementwise_affine=True)\n",
       "            (post_attention_layernorm): LayerNorm((512,), eps=1e-05, elementwise_affine=True)\n",
       "            (post_attention_dropout): Dropout(p=0.0, inplace=False)\n",
       "            (post_mlp_dropout): Dropout(p=0.0, inplace=False)\n",
       "            (attention): GPTNeoXSdpaAttention(\n",
       "              (rotary_emb): GPTNeoXRotaryEmbedding()\n",
       "              (query_key_value): lora.Linear(\n",
       "                (base_layer): Linear(in_features=512, out_features=1536, bias=True)\n",
       "                (lora_dropout): ModuleDict(\n",
       "                  (default): Dropout(p=0.05, inplace=False)\n",
       "                )\n",
       "                (lora_A): ModuleDict(\n",
       "                  (default): Linear(in_features=362, out_features=362, bias=False)\n",
       "                )\n",
       "                (lora_B): ModuleDict(\n",
       "                  (default): Linear(in_features=362, out_features=362, bias=False)\n",
       "                )\n",
       "                (lora_embedding_A): ParameterDict()\n",
       "                (lora_embedding_B): ParameterDict()\n",
       "              )\n",
       "              (dense): Linear(in_features=512, out_features=512, bias=True)\n",
       "              (attention_dropout): Dropout(p=0.0, inplace=False)\n",
       "            )\n",
       "            (mlp): GPTNeoXMLP(\n",
       "              (dense_h_to_4h): Linear(in_features=512, out_features=2048, bias=True)\n",
       "              (dense_4h_to_h): Linear(in_features=2048, out_features=512, bias=True)\n",
       "              (act): GELUActivation()\n",
       "            )\n",
       "          )\n",
       "        )\n",
       "        (final_layer_norm): LayerNorm((512,), eps=1e-05, elementwise_affine=True)\n",
       "      )\n",
       "      (embed_out): Linear(in_features=512, out_features=50304, bias=False)\n",
       "    )\n",
       "  )\n",
       ")"
      ]
     },
     "execution_count": 36,
     "metadata": {},
     "output_type": "execute_result"
    }
   ],
   "source": [
    "model_small_ft"
   ]
  },
  {
   "cell_type": "code",
   "execution_count": 37,
   "metadata": {},
   "outputs": [],
   "source": [
    "# config_mora = LoraConfig(\n",
    "#     use_mora=True, \n",
    "#     mora_type=6,  # RoPE for small rank\n",
    "#     r=64, \n",
    "#     target_modules=[\"query_key_value\"], \n",
    "#     lora_dropout=0.05, \n",
    "#     task_type=\"CAUSAL_LM\"\n",
    "#     # MoRA does not use lora_alpha\n",
    "# )\n",
    "# model = GPTNeoXForCausalLM.from_pretrained(\n",
    "#     \"EleutherAI/pythia-410m\"\n",
    "# )\n",
    "# model = get_peft_model(model, config_mora)"
   ]
  },
  {
   "cell_type": "code",
   "execution_count": 38,
   "metadata": {},
   "outputs": [],
   "source": [
    "# expand module\n",
    "\n",
    "def expand_mora_copy(old_module, new_in, new_out):\n",
    "    new_module = nn.Linear(new_in, new_out, bias=old_module.bias is not None)\n",
    "    nn.init.zeros_(new_module.weight)\n",
    "    \n",
    "    with torch.no_grad():\n",
    "        new_module.weight[:old_module.in_features, :old_module.out_features].copy_(old_module.weight)\n",
    "        \n",
    "        for i in range(old_module.in_features, new_in):\n",
    "            new_module.weight[i, :old_module.out_features].copy_(old_module.weight[i % old_module.in_features, :])\n",
    "        \n",
    "        for j in range(old_module.out_features, new_out):\n",
    "            new_module.weight[:old_module.in_features, j].copy_(old_module.weight[:, j % old_module.out_features])\n",
    "    \n",
    "    if old_module.bias is not None:\n",
    "        new_module.bias[:old_module.out_features].copy_(old_module.bias)\n",
    "    \n",
    "    return new_module\n",
    "\n",
    "\n",
    "def expand_mora_padding(old_module, new_in, new_out):\n",
    "    new_module = nn.Linear(new_in, new_out, bias=old_module.bias is not None)\n",
    "    nn.init.zeros_(new_module.weight)\n",
    "\n",
    "    with torch.no_grad():\n",
    "        new_module.weight[:old_module.in_features, :old_module.out_features].copy_(old_module.weight)\n",
    "\n",
    "    if old_module.bias is not None:\n",
    "        new_module.bias[:old_module.out_features].copy_(old_module.bias)\n",
    "    \n",
    "    return new_module"
   ]
  },
  {
   "cell_type": "code",
   "execution_count": 39,
   "metadata": {},
   "outputs": [],
   "source": [
    "new_in, new_out = 512, 512\n",
    "\n",
    "for name, module in model_small_ft.named_modules():\n",
    "    if name.endswith(\"lora_A\") or name.endswith(\"lora_B\"):\n",
    "        new_module = expand_mora_padding(module.default, new_in, new_out)\n",
    "        parts = name.split('.')\n",
    "        parent_module = model_small_ft\n",
    "        for part in parts[:-1]:\n",
    "            parent_module = getattr(parent_module, part)\n",
    "        \n",
    "        setattr(parent_module, parts[-1], nn.ModuleDict({\"default\": new_module}))"
   ]
  },
  {
   "cell_type": "code",
   "execution_count": 40,
   "metadata": {},
   "outputs": [],
   "source": [
    "# save the expanded model\n",
    "\n",
    "model_small_ft.save_pretrained(\"weight/pythia_70m_mora_expanded_padding_r=64\")"
   ]
  },
  {
   "cell_type": "code",
   "execution_count": 41,
   "metadata": {},
   "outputs": [
    {
     "data": {
      "text/plain": [
       "PeftModelForCausalLM(\n",
       "  (base_model): LoraModel(\n",
       "    (model): GPTNeoXForCausalLM(\n",
       "      (gpt_neox): GPTNeoXModel(\n",
       "        (embed_in): Embedding(50304, 512)\n",
       "        (emb_dropout): Dropout(p=0.0, inplace=False)\n",
       "        (layers): ModuleList(\n",
       "          (0-5): 6 x GPTNeoXLayer(\n",
       "            (input_layernorm): LayerNorm((512,), eps=1e-05, elementwise_affine=True)\n",
       "            (post_attention_layernorm): LayerNorm((512,), eps=1e-05, elementwise_affine=True)\n",
       "            (post_attention_dropout): Dropout(p=0.0, inplace=False)\n",
       "            (post_mlp_dropout): Dropout(p=0.0, inplace=False)\n",
       "            (attention): GPTNeoXSdpaAttention(\n",
       "              (rotary_emb): GPTNeoXRotaryEmbedding()\n",
       "              (query_key_value): lora.Linear(\n",
       "                (base_layer): Linear(in_features=512, out_features=1536, bias=True)\n",
       "                (lora_dropout): ModuleDict(\n",
       "                  (default): Dropout(p=0.05, inplace=False)\n",
       "                )\n",
       "                (lora_A): ModuleDict(\n",
       "                  (default): Linear(in_features=512, out_features=512, bias=False)\n",
       "                )\n",
       "                (lora_B): ModuleDict(\n",
       "                  (default): Linear(in_features=512, out_features=512, bias=False)\n",
       "                )\n",
       "                (lora_embedding_A): ParameterDict()\n",
       "                (lora_embedding_B): ParameterDict()\n",
       "              )\n",
       "              (dense): Linear(in_features=512, out_features=512, bias=True)\n",
       "              (attention_dropout): Dropout(p=0.0, inplace=False)\n",
       "            )\n",
       "            (mlp): GPTNeoXMLP(\n",
       "              (dense_h_to_4h): Linear(in_features=512, out_features=2048, bias=True)\n",
       "              (dense_4h_to_h): Linear(in_features=2048, out_features=512, bias=True)\n",
       "              (act): GELUActivation()\n",
       "            )\n",
       "          )\n",
       "        )\n",
       "        (final_layer_norm): LayerNorm((512,), eps=1e-05, elementwise_affine=True)\n",
       "      )\n",
       "      (embed_out): Linear(in_features=512, out_features=50304, bias=False)\n",
       "    )\n",
       "  )\n",
       ")"
      ]
     },
     "execution_count": 41,
     "metadata": {},
     "output_type": "execute_result"
    }
   ],
   "source": [
    "model_small_ft"
   ]
  },
  {
   "cell_type": "code",
   "execution_count": null,
   "metadata": {},
   "outputs": [],
   "source": []
  }
 ],
 "metadata": {
  "kernelspec": {
   "display_name": "mora",
   "language": "python",
   "name": "python3"
  },
  "language_info": {
   "codemirror_mode": {
    "name": "ipython",
    "version": 3
   },
   "file_extension": ".py",
   "mimetype": "text/x-python",
   "name": "python",
   "nbconvert_exporter": "python",
   "pygments_lexer": "ipython3",
   "version": "3.11.9"
  }
 },
 "nbformat": 4,
 "nbformat_minor": 2
}
